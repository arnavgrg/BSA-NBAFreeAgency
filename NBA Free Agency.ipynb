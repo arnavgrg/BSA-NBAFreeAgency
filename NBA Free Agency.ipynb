{
 "cells": [
  {
   "cell_type": "markdown",
   "metadata": {},
   "source": [
    "# NBA Free Agency"
   ]
  },
  {
   "cell_type": "markdown",
   "metadata": {},
   "source": [
    "This notebook aims to determine whether the top 10 NBA free agents (or players who opt for player option in their contracts) are likely stay or leave a team during free agency or the mid-season trade deadline. This will be determined using NLP techniques on phrases extracted from tweets, news, interviews, polls, basketball stats, etc. "
   ]
  },
  {
   "cell_type": "markdown",
   "metadata": {},
   "source": [
    "#### Top 10 NBA Free Agents 2019\n",
    "According to SBNation and ESPN these players are: <br>\n",
    "Link: https://www.sbnation.com/nba/2018/7/30/17616436/nba-free-agency-2019-list-kevin-durant-kyrie-irving\n",
    "\n",
    "1. Kevin Durant\n",
    "2. Kawhi Leonard\n",
    "3. Kyrie Irving\n",
    "4. Jimmy Butler \n",
    "5. Klay Thompson\n",
    "6. DeMarcus Cousins\n",
    "7. Al Horford\n",
    "8. Kemba Walker\n",
    "9. Khris Middleton\n",
    "10. Eric Bledsoe"
   ]
  },
  {
   "cell_type": "markdown",
   "metadata": {},
   "source": [
    "### Importing Libraries"
   ]
  },
  {
   "cell_type": "code",
   "execution_count": 98,
   "metadata": {},
   "outputs": [],
   "source": [
    "from bs4 import BeautifulSoup #Web Scraping\n",
    "import re #Regex\n",
    "import urllib #Open URLs\n",
    "from nltk.tokenize import TweetTokenizer #Tokenizer\n",
    "import requests #Web Scraping\n",
    "import urllib3 #Web Scraping"
   ]
  },
  {
   "cell_type": "code",
   "execution_count": 99,
   "metadata": {},
   "outputs": [],
   "source": [
    "html_doc = \"\"\"\n",
    "<html><head><title>The Dormouse's story</title></head>\n",
    "<body>\n",
    "<p class=\"title\"><b>The Dormouse's story</b></p>\n",
    "\n",
    "<p class=\"story\">Once upon a time there were three little sisters; and their names were\n",
    "<a href=\"http://example.com/elsie\" class=\"sister\" id=\"link1\">Elsie</a>,\n",
    "<a href=\"http://example.com/lacie\" class=\"sister\" id=\"link2\">Lacie</a> and\n",
    "<a href=\"http://example.com/tillie\" class=\"sister\" id=\"link3\">Tillie</a>;\n",
    "and they lived at the bottom of a well.</p>\n",
    "\n",
    "<p class=\"story\">...</p>\n",
    "\"\"\""
   ]
  },
  {
   "cell_type": "code",
   "execution_count": 120,
   "metadata": {},
   "outputs": [],
   "source": [
    "#Extracting URLs from the web page\n",
    "#for link in soup.find_all('a'):\n",
    "    #print(link.get('href'))"
   ]
  },
  {
   "cell_type": "code",
   "execution_count": 121,
   "metadata": {},
   "outputs": [],
   "source": [
    "#Finding all text in a page\n",
    "#print(soup.get_text())"
   ]
  },
  {
   "cell_type": "code",
   "execution_count": 122,
   "metadata": {},
   "outputs": [],
   "source": [
    "#Extracting Wikipedia Links from Google\n",
    "query = 'Lebron James'\n",
    "query = urllib.parse.quote_plus(query)\n",
    "\n",
    "r = requests.get('https://www.google.com/search?q=site:wikipedia.com+{}&gbv=1&sei=YwHNVpHLOYiWmQHk3K24Cw'.format(query))\n",
    "soup = BeautifulSoup(r.text, \"html.parser\")\n",
    "\n",
    "#print(soup.prettify())\n",
    "links1 = []\n",
    "for item in soup.find_all('h3', attrs={'class' : 'r'}):\n",
    "    links1.append(item.a['href'][7:])"
   ]
  },
  {
   "cell_type": "code",
   "execution_count": 123,
   "metadata": {},
   "outputs": [],
   "source": [
    "#Extracting Links from Google Search\n",
    "query = \"Lebron James\"\n",
    "google_search = \"https://www.google.com/search?sclient=psy-ab&client=ubuntu&hs=k5b&channel=fs&biw=1366&bih=648&noj=1&q=\" + query\n",
    "\n",
    "\n",
    "r = requests.get(google_search)\n",
    "\n",
    "soup = BeautifulSoup(r.text, \"html.parser\")\n",
    "#print(soup.prettify())\n",
    "\n",
    "links = []\n",
    "for item in soup.find_all('h3', attrs={'class' : 'r'}):\n",
    "    links.append(item.a['href'][7:])"
   ]
  },
  {
   "cell_type": "code",
   "execution_count": 125,
   "metadata": {},
   "outputs": [],
   "source": [
    "#Cleaning the Links\n",
    "for i in range(0,n):\n",
    "    x = links[i].find('&')\n",
    "    if x != -1:\n",
    "        links[i] = links[i][:x]"
   ]
  },
  {
   "cell_type": "code",
   "execution_count": 126,
   "metadata": {},
   "outputs": [],
   "source": [
    "#Cleaning the links\n",
    "for i in range(0,n):\n",
    "    x = links[i].find('%')\n",
    "    if x != -1:\n",
    "        links[i] = links[i][:x]"
   ]
  },
  {
   "cell_type": "code",
   "execution_count": 127,
   "metadata": {},
   "outputs": [
    {
     "name": "stdout",
     "output_type": "stream",
     "text": [
      "?q=Lebron+James\n",
      "https://en.wikipedia.org/wiki/LeBron_James\n",
      "https://twitter.com/kingjames\n",
      "http://www.lebronjames.com/\n",
      "https://www.basketball-reference.com/players/j/jamesle01.html\n",
      "http://www.espn.com/nba/player/_/id/1966/lebron-james\n",
      "https://www.instagram.com/kingjames/\n",
      "https://www.sbnation.com/nba/2018/10/30/18043274/lebron-james-lakers-stats-highlights\n",
      "https://www.cbssports.com/nba/players/playerpage/400553/lebron-james\n",
      "https://www.express.co.uk/sport/othersport/1038620/Klay-Thompson-LeBron-James-Los-Angeles-Lakers-free-agency-2019-NBA-rumours\n"
     ]
    }
   ],
   "source": [
    "#Displaying the links\n",
    "n = len(links)\n",
    "for i in range(0,n):\n",
    "    print(links[i])"
   ]
  },
  {
   "cell_type": "code",
   "execution_count": 130,
   "metadata": {},
   "outputs": [],
   "source": [
    "#Printing Everything on a page\n",
    "r = requests.get(links[1])\n",
    "\n",
    "soup = BeautifulSoup(r.content, \"html.parser\")\n",
    "#print(soup.prettify())\n",
    "#print(soup.get_text())"
   ]
  },
  {
   "cell_type": "code",
   "execution_count": null,
   "metadata": {},
   "outputs": [],
   "source": []
  }
 ],
 "metadata": {
  "kernelspec": {
   "display_name": "Python 3",
   "language": "python",
   "name": "python3"
  },
  "language_info": {
   "codemirror_mode": {
    "name": "ipython",
    "version": 3
   },
   "file_extension": ".py",
   "mimetype": "text/x-python",
   "name": "python",
   "nbconvert_exporter": "python",
   "pygments_lexer": "ipython3",
   "version": "3.6.4"
  }
 },
 "nbformat": 4,
 "nbformat_minor": 2
}
