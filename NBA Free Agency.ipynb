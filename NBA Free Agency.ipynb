{
 "cells": [
  {
   "cell_type": "markdown",
   "metadata": {},
   "source": [
    "# NBA Free Agency"
   ]
  },
  {
   "cell_type": "markdown",
   "metadata": {},
   "source": [
    "This notebook aims to determine whether the top 10 NBA free agents (or players who opt for player option in their contracts) are likely stay or leave a team during free agency or the mid-season trade deadline. This will be determined using NLP techniques on phrases extracted from tweets, news, interviews, polls, basketball stats, etc. "
   ]
  },
  {
   "cell_type": "markdown",
   "metadata": {},
   "source": [
    "#### Top 10 NBA Free Agents 2019\n",
    "According to SBNation and ESPN these players are: <br>\n",
    "Link: https://www.sbnation.com/nba/2018/7/30/17616436/nba-free-agency-2019-list-kevin-durant-kyrie-irving\n",
    "\n",
    "1. Kevin Durant\n",
    "2. Kawhi Leonard\n",
    "3. Kyrie Irving\n",
    "4. Jimmy Butler \n",
    "5. Klay Thompson\n",
    "6. DeMarcus Cousins\n",
    "7. Al Horford\n",
    "8. Kemba Walker\n",
    "9. Khris Middleton\n",
    "10. Eric Bledsoe"
   ]
  },
  {
   "cell_type": "markdown",
   "metadata": {},
   "source": [
    "### Importing Libraries"
   ]
  },
  {
   "cell_type": "code",
   "execution_count": 1,
   "metadata": {},
   "outputs": [],
   "source": [
    "from bs4 import BeautifulSoup #Web Scraping\n",
    "import re #Regex\n",
    "from nltk.tokenize import TweetTokenizer #Tokenizer\n",
    "import requests #Web Scraping\n",
    "import urllib3 #Web Scraping\n",
    "import urllib"
   ]
  },
  {
   "cell_type": "markdown",
   "metadata": {},
   "source": [
    "### Extracting Wikipedia Links from Google"
   ]
  },
  {
   "cell_type": "code",
   "execution_count": 2,
   "metadata": {},
   "outputs": [],
   "source": [
    "links1 = []"
   ]
  },
  {
   "cell_type": "code",
   "execution_count": 3,
   "metadata": {},
   "outputs": [],
   "source": [
    "#Tokenize into 'get' query formats \n",
    "query = 'Lebron James'\n",
    "query = urllib.parse.quote_plus(query)\n",
    "\n",
    "#Get request to a link; return status code 200 if successful. r.text has all the text saved\n",
    "r = requests.get('https://www.google.com/search?q=site:wikipedia.com+{}&gbv=1&sei=YwHNVpHLOYiWmQHk3K24Cw'.format(query))\n",
    "\n",
    "#Convert it to a soup object, but parsing it usin html so it understands the text being parsed. \n",
    "soup = BeautifulSoup(r.text, \"html.parser\")\n",
    "\n",
    "for item in soup.find_all('h3', attrs={'class' : 'r'}):\n",
    "    links1.append(item.a['href'][7:])"
   ]
  },
  {
   "cell_type": "markdown",
   "metadata": {},
   "source": [
    "## Extracting Links from Google Search"
   ]
  },
  {
   "cell_type": "code",
   "execution_count": 4,
   "metadata": {},
   "outputs": [],
   "source": [
    "links = []"
   ]
  },
  {
   "cell_type": "code",
   "execution_count": 5,
   "metadata": {},
   "outputs": [],
   "source": [
    "query = \"Lebron James Lakers\"\n",
    "google_search = \"https://www.google.com/search?sclient=psy-ab&client=ubuntu&hs=k5b&channel=fs&biw=1366&bih=648&noj=1&q=\" + query\n",
    "\n",
    "r = requests.get(google_search)\n",
    "\n",
    "soup = BeautifulSoup(r.text, \"html.parser\")\n",
    "\n",
    "for item in soup.find_all('h3', attrs={'class' : 'r'}):\n",
    "    links.append(item.a['href'][7:])"
   ]
  },
  {
   "cell_type": "code",
   "execution_count": 6,
   "metadata": {},
   "outputs": [],
   "source": [
    "#Cleaning the Links\n",
    "n = len(links)\n",
    "for i in range(0,n):\n",
    "    x = links[i].find('&') \n",
    "    if x != -1:\n",
    "        links[i] = links[i][:x]"
   ]
  },
  {
   "cell_type": "code",
   "execution_count": 7,
   "metadata": {},
   "outputs": [],
   "source": [
    "#Cleaning the links\n",
    "for i in range(0,n):\n",
    "    x = links[i].find('%')\n",
    "    if x != -1:\n",
    "        links[i] = links[i][:x]"
   ]
  },
  {
   "cell_type": "code",
   "execution_count": 13,
   "metadata": {},
   "outputs": [],
   "source": [
    "#Get rid of misprint\n",
    "for i in links:\n",
    "    if i[0] == '?':\n",
    "        links.remove(i)"
   ]
  },
  {
   "cell_type": "code",
   "execution_count": 14,
   "metadata": {},
   "outputs": [
    {
     "name": "stdout",
     "output_type": "stream",
     "text": [
      "https://www.usatoday.com/story/sports/nba/2018/10/30/lebron-james-lakers-warning-timberwolves/1816624002/\n",
      "http://www.espn.com/nba/story/_/id/24854936/lebron-james-creates-first-highlights-lakers-preseason-debut\n",
      "https://www.reuters.com/article/us-basketball-nba-lal-lebron-james/inexperienced-lakers-starting-to-wear-on-lebron-idUSKCN1N424M\n",
      "https://www.youtube.com/watch\n",
      "http://www.latimes.com/la-sp-lebron-james-lakers-updates-htmlstory.html\n",
      "https://lakersstore.com/collections/welcome-lebron-james\n",
      "https://www.ocregister.com/tag/lebron-james/\n",
      "https://sports.yahoo.com/lebron-james-teases-lakers-fans-playing-together-kobe-bryant-imagine-213914553.html\n"
     ]
    }
   ],
   "source": [
    "#Displaying the links\n",
    "n = len(links)\n",
    "for i in range(0,n):\n",
    "    print(links[i])"
   ]
  },
  {
   "cell_type": "code",
   "execution_count": 15,
   "metadata": {},
   "outputs": [],
   "source": [
    "#Printing Everything on a page\n",
    "r = requests.get(links[1])\n",
    "\n",
    "soup1 = BeautifulSoup(r.content, \"html.parser\")\n",
    "\n",
    "text = soup1.find_all('p')\n",
    "\n",
    "page_text = \"\"\n",
    "\n",
    "for item in text:\n",
    "    str_contents = str(item.contents)\n",
    "    len_contents = len(str_contents)\n",
    "    page_text += str_contents[1:len_contents-1]"
   ]
  },
  {
   "cell_type": "code",
   "execution_count": 17,
   "metadata": {},
   "outputs": [
    {
     "data": {
      "text/plain": [
       "'\\'LeBron James makes his preseason debut with the Lakers, scoring 9 points, dishing out 3 assists and collecting 3 rebounds. (1:16)\\'\\'SAN DIEGO -- \\', <a href=\"http://www.espn.com/nba/player/_/id/1966/lebron-james\">LeBron James</a>, \"\\' first game with his third franchise opened up with a pair of highlight-worthy plays in the \", <a href=\"/nba/team/_/name/lal/los-angeles-lakers\">Los Angeles Lakers</a>, \"\\' preseason debut against the \", <a href=\"/nba/team/_/name/den/denver-nuggets\">Denver Nuggets</a>, \\' on Sunday.\\'\"True to form, James\\' first tally in the stat book as a Laker was an assist off a no-look, wraparound bounce pass that found \", <a href=\"http://www.espn.com/nba/player/_/id/3913176/brandon-ingram\">Brandon Ingram</a>, \\' for a dunk.\\'\\'Less than a minute later, following a \\', <a href=\"http://www.espn.com/nba/player/_/id/3026/rajon-rondo\">Rajon Rondo</a>, \\' offensive rebound and pitch out, James stroked a 26-foot 3-pointer with 9:12 remaining in the first quarter, securing his first bucket with his new team.\\'\"If all this excitement occurred in San Diego, imagine the insanity of the Lakers\\' home opener.\"\"In the Lakers\\' first dress rehearsal, coach Luke Walton did as he said he would: he\\'d tinker with a variety of lineups, including small-ball units that saw Kyle Kuzma and Michael Beasley at times try to hold the fort down at center.\"\\'\"It was great to get back on the floor and start a new journey for myself,\" James said after the Lakers\\\\\\' 124-107 loss was over.\\'\\'Before tipoff, there was framed artwork stationed outside the Lakers\\\\\\' locker room at the Valley View Casino Center drawn up like a concert poster commemorating \"LeBron James\\\\\\' Los Angeles Lakers Debut,\" with James\\\\\\' image front and center, flanked by an artist\\\\\\'s rendering of \\', <a href=\"http://www.espn.com/nba/player/_/id/4066421/lonzo-ball\">Lonzo Ball</a>, \\', Ingram, \\', <a href=\"http://www.espn.com/nba/player/_/id/3134907/kyle-kuzma\">Kyle Kuzma</a>, \\' and \\', <a href=\"http://www.espn.com/nba/player/_/id/3062679/josh-hart\">Josh Hart</a>, \\' around him.\\'\"While James was the featured player on the poster, it was Ingram, not the four-time MVP and three-time champion, who filled up the stat sheet in the first half, as the third-year forward put up 13 points, 4 rebounds and 2 steals to James\\' 9 points, 3 assists and 3 rebounds. Ingram would finish with 16 points on 7-for-14 shooting.\"\\' \\', <a href=\"https://www.instagram.com/p/BoYMDuDhsue/?utm_source=ig_embed&amp;utm_medium=loading\" style=\" color:#000; font-family:Arial,sans-serif; font-size:14px; font-style:normal; font-weight:normal; line-height:17px; text-decoration:none; word-wrap:break-word;\" target=\"_blank\">Can\\'t even front, it\\'s just felt different! Goosebumps! #striveforgreatness🚀 #thekidfromakron👑</a>\\'A post shared by \\', <a href=\"https://www.instagram.com/kingjames/?utm_source=ig_embed&amp;utm_medium=loading\" style=\" color:#c9c8cd; font-family:Arial,sans-serif; font-size:14px; font-style:normal; font-weight:normal; line-height:17px;\" target=\"_blank\"> LeBron James</a>, \\' (@kingjames) on \\', <time datetime=\"2018-10-01T04:59:09+00:00\" style=\" font-family:Arial,sans-serif; font-size:14px; line-height:17px;\">Sep 30, 2018 at 9:59pm PDT</time>\\'\"I find rhythm with anybody who\\\\\\'s very energetic offensively, and that\\\\\\'s a guy who moves without the ball,\" James said of Ingram.\\'<a href=\"http://www.espn.com/nba/player/_/id/3452/javale-mcgee\">JaVale McGee</a>, \" led L.A. in scoring with 17 points on 8-for-10 shooting, opening the night with a dunk off a lob from Rondo for the first of the point guard\\'s 11 assists. James\\' night was finished after 15 first-half minutes, which he said were a little bit more than he expected to play, but he came out feeling good regardless. Kuzma (15 points on 4-for-13 shooting) started in his place in the third quarter.\"\"Not that James didn\\'t make his impact felt outside of the dazzling plays that brought the sellout crowd of 13,565 to its feet.\"\\'Case in point: When James checked out of the game with 3:02 remaining in the first quarter, the Lakers led by one. When he came back in with 7:21 remaining in the second quarter, L.A. trailed by 13.\\'\\'The more things change, the more they stay the same, as the \\', <a href=\"/nba/team/_/name/cle/cleveland-cavaliers\">Cleveland Cavaliers</a>, \\' struggled mightily whenever James was off the court in the last four seasons.\\'\\'LeBron James drives past half court and then knocks down a step-back 3-pointer.\\'\"Whatever similarities can be drawn to his past experiences, James couldn\\'t deny the significance of the night as a new milestone in his career.\"\\'\"It always feels different for me anytime you change uniforms,\" he said. \"It felt different when I changed from a St. Vincent-St. Mary jersey to a Cavs jersey, from a Cavs jersey to a Heat jersey, back to a Cavs jersey and now being a Laker. So, it definitely feels different, and it\\\\\\'ll take a little bit of time getting used to.\"\\'\"Laker Nation isn\\'t waiting to embrace the team, however. The excitement for this Lakers group that is clearly a work in progress was palpable from the start on Sunday. Close to 300 fans attended the team\\'s morning shootaround in Temecula, about an hour from San Diego. And there was such a crowd of cameras in the Lakers locker room before the game that the Nuggets\\' defenders weren\\'t the only bodies James found himself navigating.\"\\'\"Excuse me, get away from my locker, please,\" James said as he made his way through the crowd.\\'\\'Not long after, he took the court for the first time to play a game as a Laker and had to contend with Denver, another team, like L.A., hoping to make a run this season in what figures to be a crowded Western Conference playoff race.\\'\\'\"Everything,\" James said at the end of the night. \"Everything. Got to get better at everything.\"\\'\\'L.A. continues the preseason Tuesday at Staples Center with another game against the Nuggets.\\'\\'Lakers coach Luke Walton has not figured out how much James will play in the rest of the exhibition schedule, but he has figured out one thing already, for sure, about James: \"You know, you are coaching the Lakers and you look out and see LeBron in your team\\\\\\'s colors,\" Walton said, \"it is a pretty good feeling.\"\\'\\'To help make this website better, to improve and personalize your experience and for advertising purposes, are you happy to accept cookies and other technologies?\\''"
      ]
     },
     "execution_count": 17,
     "metadata": {},
     "output_type": "execute_result"
    }
   ],
   "source": [
    "page_text "
   ]
  },
  {
   "cell_type": "code",
   "execution_count": null,
   "metadata": {},
   "outputs": [],
   "source": []
  }
 ],
 "metadata": {
  "kernelspec": {
   "display_name": "Python 3",
   "language": "python",
   "name": "python3"
  },
  "language_info": {
   "codemirror_mode": {
    "name": "ipython",
    "version": 3
   },
   "file_extension": ".py",
   "mimetype": "text/x-python",
   "name": "python",
   "nbconvert_exporter": "python",
   "pygments_lexer": "ipython3",
   "version": "3.5.6"
  }
 },
 "nbformat": 4,
 "nbformat_minor": 2
}
