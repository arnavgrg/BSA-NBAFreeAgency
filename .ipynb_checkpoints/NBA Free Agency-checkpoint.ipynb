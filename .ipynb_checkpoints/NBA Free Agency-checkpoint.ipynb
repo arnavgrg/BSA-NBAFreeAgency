{
 "cells": [
  {
   "cell_type": "markdown",
   "metadata": {},
   "source": [
    "# NBA Free Agency"
   ]
  },
  {
   "cell_type": "markdown",
   "metadata": {},
   "source": [
    "This notebook aims to determine whether the top 10 NBA free agents (or players who opt for player option in their contracts) are likely stay or leave a team during free agency or the mid-season trade deadline. This will be determined using NLP techniques on phrases extracted from tweets, news, interviews, polls, basketball stats, etc. "
   ]
  },
  {
   "cell_type": "markdown",
   "metadata": {},
   "source": [
    "#### Top 10 NBA Free Agents 2019\n",
    "According to SBNation and ESPN these players are: <br>\n",
    "Link: https://www.sbnation.com/nba/2018/7/30/17616436/nba-free-agency-2019-list-kevin-durant-kyrie-irving\n",
    "\n",
    "1. Kevin Durant\n",
    "2. Kawhi Leonard\n",
    "3. Kyrie Irving\n",
    "4. Jimmy Butler \n",
    "5. Klay Thompson\n",
    "6. DeMarcus Cousins\n",
    "7. Al Horford\n",
    "8. Kemba Walker\n",
    "9. Khris Middleton\n",
    "10. Eric Bledsoe"
   ]
  },
  {
   "cell_type": "markdown",
   "metadata": {},
   "source": [
    "### Importing Libraries"
   ]
  },
  {
   "cell_type": "code",
   "execution_count": 1,
   "metadata": {},
   "outputs": [],
   "source": [
    "from bs4 import BeautifulSoup #Web Scraping\n",
    "import re #Regex\n",
    "from nltk.tokenize import TweetTokenizer #Tokenizer\n",
    "import requests #Web Scraping\n",
    "import urllib3 #Web Scraping\n",
    "import urllib"
   ]
  },
  {
   "cell_type": "markdown",
   "metadata": {},
   "source": [
    "### Get links"
   ]
  },
  {
   "cell_type": "code",
   "execution_count": 8,
   "metadata": {},
   "outputs": [],
   "source": [
    "def return_links(user_query):\n",
    "    links = []\n",
    "    google_search = \"https://www.google.com/search?sclient=psy-ab&client=ubuntu&hs=k5b&channel=fs&biw=1366&bih=648&noj=1&q=\" + user_query\n",
    "    r = requests.get(google_search)\n",
    "    if r.ok:\n",
    "        soup = BeautifulSoup(r.text, \"html.parser\")\n",
    "        for item in soup.find_all('h3', attrs={'class' : 'r'}):\n",
    "            links.append(item.a['href'][7:0])\n",
    "    else:\n",
    "        f = open(\"Error-Logs/query_errors.txt\",\"a+\")\n",
    "        f.write(\"\\n\")\n",
    "        f.write(user_query)\n",
    "        f.close()\n",
    "    return links"
   ]
  },
  {
   "cell_type": "markdown",
   "metadata": {},
   "source": [
    "### Clean Links"
   ]
  },
  {
   "cell_type": "code",
   "execution_count": 3,
   "metadata": {},
   "outputs": [],
   "source": [
    "def clean_links(links):\n",
    "    for i in links:\n",
    "        x = i.find('&')\n",
    "        if x != -1:\n",
    "            i = i[:x]\n",
    "    for i in links:\n",
    "        x = i.find('%')\n",
    "        if x != -1:\n",
    "            i = i[:x]\n",
    "        if i[0] == '?':\n",
    "            links.remove(i)\n",
    "    return links"
   ]
  },
  {
   "cell_type": "markdown",
   "metadata": {},
   "source": [
    "### View Links"
   ]
  },
  {
   "cell_type": "code",
   "execution_count": 4,
   "metadata": {},
   "outputs": [],
   "source": [
    "def view_links(links):\n",
    "    for i in range(len(links)):\n",
    "        print(i+1,links[i])"
   ]
  },
  {
   "cell_type": "markdown",
   "metadata": {},
   "source": [
    "### Retrieve, clean and save text"
   ]
  },
  {
   "cell_type": "code",
   "execution_count": 5,
   "metadata": {},
   "outputs": [],
   "source": [
    "count = 0\n",
    "def save_text(links):\n",
    "    global count\n",
    "    for i in links:\n",
    "        r = requests.get(i)\n",
    "        if r.ok:\n",
    "            print(\"Reach here:\",i)\n",
    "            soup = BeautifulSoup(r.content, \"html.parser\")\n",
    "            text = soup.find_all('p')\n",
    "            page_text = \"\"\n",
    "            for item in text:\n",
    "                str_contents = str(item.contents)\n",
    "                len_contents = len(str_contents)\n",
    "                page_text += str_contents[1:len_contents-1]\n",
    "            f = open(\"Excerpts/excerpt{}.csv\".format(count),\"w+\")\n",
    "            f.write(str(i)+\"\\n\\n\")\n",
    "            f.write(str(text))\n",
    "            f.close()\n",
    "            page_text = \"\"\n",
    "            count += 1\n",
    "        else:\n",
    "            f = open(\"Error-Logs/text_saving_errors.txt\",\"a+\")\n",
    "            f.write(\"\\n\")\n",
    "            f.write(i)\n",
    "            f.close()"
   ]
  },
  {
   "cell_type": "markdown",
   "metadata": {},
   "source": [
    "### Actual Code "
   ]
  },
  {
   "cell_type": "code",
   "execution_count": 9,
   "metadata": {},
   "outputs": [
    {
     "name": "stdout",
     "output_type": "stream",
     "text": [
      "/search?q=Los+Angeles+Lakers&client=ubuntu&hs=WDU&channel=fs&biw=1366&bih=648&ie=UTF-8&prmd=ivns&source=univ&tbm=nws&tbo=u&sa=X&ved=0ahUKEwiKmI2lyrLeAhWK3lQKHflLCjgQqAIIFQ\n",
      "/url?q=https://www.nba.com/lakers/&sa=U&ved=0ahUKEwiKmI2lyrLeAhWK3lQKHflLCjgQFggeMAQ&usg=AOvVaw0NPgLXfaVsaQuCSST9MR3Q\n",
      "/url?q=http://www.espn.com/nba/team/_/name/lal/los-angeles-lakers&sa=U&ved=0ahUKEwiKmI2lyrLeAhWK3lQKHflLCjgQFggjMAU&usg=AOvVaw3DC7lnoz8g0eC4r7ciaN9v\n",
      "/url?q=https://twitter.com/lakers&sa=U&ved=0ahUKEwiKmI2lyrLeAhWK3lQKHflLCjgQFggpMAY&usg=AOvVaw1tkJ34LSmQNJNdJUVF6okO\n",
      "/url?q=https://bleacherreport.com/los-angeles-lakers&sa=U&ved=0ahUKEwiKmI2lyrLeAhWK3lQKHflLCjgQFggvMAc&usg=AOvVaw1sebCpNMuDl-6BMfia_rY1\n",
      "/url?q=https://en.wikipedia.org/wiki/Los_Angeles_Lakers&sa=U&ved=0ahUKEwiKmI2lyrLeAhWK3lQKHflLCjgQFgg0MAg&usg=AOvVaw3W5rsRJpesomnOOojbuxWR\n",
      "/url?q=https://sports.yahoo.com/nba/teams/lal/&sa=U&ved=0ahUKEwiKmI2lyrLeAhWK3lQKHflLCjgQFgg6MAk&usg=AOvVaw30YDTQBGTd9zNqlfTWv10S\n",
      "/url?q=https://www.facebook.com/losangeleslakers/&sa=U&ved=0ahUKEwiKmI2lyrLeAhWK3lQKHflLCjgQFghAMAo&usg=AOvVaw3LVryHBMN-XCNKRkCXNMlX\n",
      "/url?q=https://www.cbssports.com/nba/teams/page/LAL/los-angeles&sa=U&ved=0ahUKEwiKmI2lyrLeAhWK3lQKHflLCjgQFghFMAs&usg=AOvVaw1msxk4g4X2FhEgAPoePi-R\n",
      "/url?q=https://www.sbnation.com/nba/teams/los-angeles-lakers&sa=U&ved=0ahUKEwiKmI2lyrLeAhWK3lQKHflLCjgQFghKMAw&usg=AOvVaw0cZ9pdlR7dMNtTBJHWc82S\n"
     ]
    },
    {
     "data": {
      "text/plain": [
       "\"\\nfor i in a:\\n    if i[0] == '?':\\n        a.remove(i)\\nview_links(a)\\na = save_text(a)\\n\""
      ]
     },
     "execution_count": 9,
     "metadata": {},
     "output_type": "execute_result"
    }
   ],
   "source": [
    "a = return_links(\"Lebron James\")\n",
    "a = clean_links(a)\n",
    "view_links(a)\n",
    "a = save_text(a)"
   ]
  },
  {
   "cell_type": "code",
   "execution_count": null,
   "metadata": {},
   "outputs": [],
   "source": []
  }
 ],
 "metadata": {
  "kernelspec": {
   "display_name": "Python 3",
   "language": "python",
   "name": "python3"
  },
  "language_info": {
   "codemirror_mode": {
    "name": "ipython",
    "version": 3
   },
   "file_extension": ".py",
   "mimetype": "text/x-python",
   "name": "python",
   "nbconvert_exporter": "python",
   "pygments_lexer": "ipython3",
   "version": "3.5.6"
  }
 },
 "nbformat": 4,
 "nbformat_minor": 2
}
