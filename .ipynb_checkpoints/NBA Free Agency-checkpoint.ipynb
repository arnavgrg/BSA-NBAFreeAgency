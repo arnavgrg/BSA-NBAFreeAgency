{
 "cells": [
  {
   "cell_type": "markdown",
   "metadata": {},
   "source": [
    "# NBA Free Agency"
   ]
  },
  {
   "cell_type": "markdown",
   "metadata": {},
   "source": [
    "This notebook aims to determine whether the top 10 NBA free agents (or players who opt for player option in their contracts) are likely stay or leave a team during free agency or the mid-season trade deadline. This will be determined using NLP techniques on phrases extracted from tweets, news, interviews, polls, basketball stats, etc. "
   ]
  },
  {
   "cell_type": "markdown",
   "metadata": {},
   "source": [
    "#### Top 10 NBA Free Agents 2019\n",
    "According to SBNation and ESPN these players are: <br>\n",
    "Link: https://www.sbnation.com/nba/2018/7/30/17616436/nba-free-agency-2019-list-kevin-durant-kyrie-irving\n",
    "\n",
    "1. Kevin Durant\n",
    "2. Kawhi Leonard\n",
    "3. Kyrie Irving\n",
    "4. Jimmy Butler \n",
    "5. Klay Thompson\n",
    "6. DeMarcus Cousins\n",
    "7. Al Horford\n",
    "8. Kemba Walker\n",
    "9. Khris Middleton\n",
    "10. Eric Bledsoe"
   ]
  },
  {
   "cell_type": "markdown",
   "metadata": {},
   "source": [
    "### Importing Libraries"
   ]
  },
  {
   "cell_type": "code",
   "execution_count": 2,
   "metadata": {},
   "outputs": [],
   "source": [
    "from bs4 import BeautifulSoup #Web Scraping\n",
    "import re #Regex\n",
    "from nltk.tokenize import TweetTokenizer #Tokenizer\n",
    "import requests #Web Scraping\n",
    "import urllib3 #Web Scraping\n",
    "import urllib"
   ]
  },
  {
   "cell_type": "markdown",
   "metadata": {},
   "source": [
    "### Extracting Wikipedia Links from Google"
   ]
  },
  {
   "cell_type": "code",
   "execution_count": 37,
   "metadata": {},
   "outputs": [],
   "source": [
    "links1 = []"
   ]
  },
  {
   "cell_type": "code",
   "execution_count": 38,
   "metadata": {},
   "outputs": [],
   "source": [
    "#Tokenize into 'get' query formats \n",
    "query = 'Lebron James'\n",
    "query = urllib.parse.quote_plus(query)\n",
    "\n",
    "#Get request to a link; return status code 200 if successful. r.text has all the text saved\n",
    "r = requests.get('https://www.google.com/search?q=site:wikipedia.com+{}&gbv=1&sei=YwHNVpHLOYiWmQHk3K24Cw'.format(query))\n",
    "\n",
    "#Convert it to a soup object, but parsing it usin html so it understands the text being parsed. \n",
    "soup = BeautifulSoup(r.text, \"html.parser\")\n",
    "\n",
    "for item in soup.find_all('h3', attrs={'class' : 'r'}):\n",
    "    links1.append(item.a['href'][7:])"
   ]
  },
  {
   "cell_type": "markdown",
   "metadata": {},
   "source": [
    "## Extracting Links from Google Search"
   ]
  },
  {
   "cell_type": "code",
   "execution_count": 58,
   "metadata": {},
   "outputs": [],
   "source": [
    "links = []"
   ]
  },
  {
   "cell_type": "code",
   "execution_count": 59,
   "metadata": {},
   "outputs": [],
   "source": [
    "query = \"Lebron James Lakers\"\n",
    "google_search = \"https://www.google.com/search?sclient=psy-ab&client=ubuntu&hs=k5b&channel=fs&biw=1366&bih=648&noj=1&q=\" + query\n",
    "\n",
    "r = requests.get(google_search)\n",
    "\n",
    "soup = BeautifulSoup(r.text, \"html.parser\")\n",
    "\n",
    "for item in soup.find_all('h3', attrs={'class' : 'r'}):\n",
    "    links.append(item.a['href'][7:])"
   ]
  },
  {
   "cell_type": "code",
   "execution_count": 60,
   "metadata": {},
   "outputs": [],
   "source": [
    "#Cleaning the Links\n",
    "n = len(links)\n",
    "for i in range(0,n):\n",
    "    x = links[i].find('&') \n",
    "    if x != -1:\n",
    "        links[i] = links[i][:x]"
   ]
  },
  {
   "cell_type": "code",
   "execution_count": 61,
   "metadata": {},
   "outputs": [],
   "source": [
    "#Cleaning the links\n",
    "for i in range(0,n):\n",
    "    x = links[i].find('%')\n",
    "    if x != -1:\n",
    "        links[i] = links[i][:x]"
   ]
  },
  {
   "cell_type": "code",
   "execution_count": 64,
   "metadata": {},
   "outputs": [
    {
     "name": "stdout",
     "output_type": "stream",
     "text": [
      "https://www.usatoday.com/story/sports/nba/2018/10/30/lebron-james-lakers-warning-timberwolves/1816624002/\n",
      "https://www.reuters.com/article/us-basketball-nba-lal-lebron-james/inexperienced-lakers-starting-to-wear-on-lebron-idUSKCN1N424M\n",
      "https://www.express.co.uk/sport/othersport/1038620/Klay-Thompson-LeBron-James-Los-Angeles-Lakers-free-agency-2019-NBA-rumours\n",
      "http://www.espn.com/nba/story/_/id/24854936/lebron-james-creates-first-highlights-lakers-preseason-debut\n",
      "http://www.espn.com/nba/story/_/id/24877251/lebron-james-makes-home-debut-los-angeles-lakers-staples-center\n",
      "https://www.youtube.com/watch\n",
      "https://www.cbssports.com/nba/news/lebron-james-exercising-patience-with-young-lakers-during-rough-start-but-what-happens-when-it-runs-out/\n",
      "http://www.latimes.com/la-sp-lebron-james-lakers-updates-htmlstory.html\n",
      "https://lakersstore.com/collections/welcome-lebron-james\n"
     ]
    }
   ],
   "source": [
    "#Displaying the links\n",
    "n = len(links)\n",
    "for i in range(1,n):\n",
    "    print(links[i])"
   ]
  },
  {
   "cell_type": "code",
   "execution_count": 108,
   "metadata": {},
   "outputs": [
    {
     "name": "stdout",
     "output_type": "stream",
     "text": [
      "[]\n",
      "['Settings']\n",
      "['Cancel']\n",
      "['Set']\n",
      "['Hi ', <span class=\"site-nav-firefly-user-display-name\"></span>]\n",
      "['Already a subscriber?']\n",
      "['Subscribe to USA TODAY']\n",
      "[\"Already a print edition subscriber, but don't have a login?\"]\n",
      "['Manage your account settings.']\n",
      "[<a class=\"ff\" data-user-account=\"firefly\" href=\"https://help.usatoday.com\" target=\"_blank\">Support</a>]\n",
      "[<a class=\"ff-logout-btn userAuth-redirect\" data-ht=\"HeaderUserAuthLogout\" href=\"https://user.usatoday.com/USAT-GUP/user/logout/?return-url=https%3A//www.usatoday.com/story/sports/nba/2018/10/30/lebron-james-lakers-warning-timberwolves/1816624002/\">Log Out</a>]\n",
      "['Get the news']\n",
      "['Let friends in your social network know what you are reading about']\n",
      "['The Lakers are 2-5 after a 124-120 loss to the Timberwolves and LeBron James is not happy with what is going on.']\n",
      "[\"A link has been sent to your friend's email address.\"]\n",
      "['A link has been posted to your Facebook feed. ']\n",
      "['To find out more about Facebook commenting please read the ', <a href=\"http://static.usatoday.com/conversation-guidelines/\">Conversation Guidelines and FAQs</a>]\n",
      "[<span class=\"js-caption-wrapper\"><span class=\"cutline js-caption\">Lakers forward LeBron James reacts to a call in the third quarter against Minnesota Timberwolves at Target Center.</span><meta content=\"\" itemprop=\"copyrightHolder\"/><span class=\"credit\">(Photo: Brad Rempel, USA TODAY Sports)</span></span>]\n",
      "['It took two weeks and five defeats and 852 points conceded, but LeBron James is starting to get mad and he’s not going to bite his tongue any longer.']\n",
      "['After preaching patience ever since his arrival in Los Angeles, that virtue has finally worn thin for James following a 124-120 defeat at Minnesota on Monday night that dropped the team to 2-5.']\n",
      "['“We talk about patience but you can’t have reoccurrence of the same thing,” ', <a data-track-label=\"inline|intext|n/a\" href=\"https://www.youtube.com/watch?v=SBuymyvwTGU\">James told reporters</a>, '. “If you are doing the same things over and over and over and expecting the same result then that’s insanity.\\xa0']\n",
      "['“So we have to get better. We can’t keep having the same mistakes over and over.”']\n",
      "['Defensively, the Lakers have been unable to get critical stops when needed in virtually all of this season’s defeats. Preventing the opposition from going on scoring runs has been an issue, as has holding onto late leads. The Timberwolves were allowed 20 offensive rebounds on Monday and got to the free-throw line twice as often (30 to 15) as the Lakers.']\n",
      "[<span class=\"exclude-from-newsgate\"><strong style=\"margin-right:3px;\">More: </strong><a data-track-label=\"inline|intext|n/a\" href=\"https://www.usatoday.com/story/sports/nba/warriors/2018/10/29/klay-thompson-breaks-nba-single-game-3-point-record/1815004002/\">Klay Thompson breaks Warriors teammate Steph Curry's NBA single-game 3-point record</a></span>]\n",
      "[<span class=\"exclude-from-newsgate\"><strong style=\"margin-right:3px;\">More: </strong><a data-track-label=\"inline|intext|n/a\" href=\"http://www.usatoday.com/story/sports/columnist/martin-rogers/2018/10/29/lebron-james-lakers-lonzo-ball-luke-walton-nba/1810306002/\">LeBron James has veteran leadership covered, so Lakers should let Lonzo Ball and kids play</a></span>]\n",
      "['James knew he would be spearheading a building project with an eye firmly on the future when he switched Cleveland for California, but he’s sick of losing with such frequency and has no interest in seeing the early-season trend continue.']\n",
      "['“You probably don’t want to be around when my patience runs out,” James added. “I’m serious.”']\n",
      "[\"You probably don't want to be around when LeBron James' patience runs out \", <a href=\"https://t.co/nDg1W1cFvt\">pic.twitter.com/nDg1W1cFvt</a>]\n",
      "['Many of the mistakes have been a result of the inexperience in the squad, but the Lakers’ youngest members have also shown serious potential and can be expected to improve over the course of the campaign. For James, that progress can’t happen quickly enough.']\n",
      "['L.A.’s gloomy record could have looked a whole lot brighter but for some tiny margins. In an overtime loss at home to San Antonio, James missed two key free throws and a potential game-winner. In the Lakers’ home opener, things were in the balance until the ', <a data-track-label=\"inline|intext|n/a\" href=\"http://www.usatoday.com/story/sports/columnist/martin-rogers/2018/10/21/lakers-nba-rajon-rondo-brandon-ingram-melee-chris-paul/1721494002/\">Rajon Rondo-Chris Paul punch-up</a>, '.']\n",
      "['The squad is now fully stocked again now ', <a data-track-label=\"inline|intext|n/a\" href=\"https://www.usatoday.com/story/sports/nba/2018/10/21/lakers-rockets-brawl-rajon-rondo-chris-paul-brandon-ingram/1720650002/\">with Rondo and Brandon Ingram back from suspensions</a>, '. With five of the team’s next seven games at home, there will be pressure to get the chemistry fixed soon and get on pace in the Western Conference.']\n",
      "['“We got to figure it out,” James said. “It is not one guy. We are all in this together, so, we got to figure it out. We got another one on Wednesday (against Dallas) on our home floor and we got to be really good.”']\n",
      "['A link has been posted to your Facebook feed. ']\n",
      "['\\xa0']\n"
     ]
    }
   ],
   "source": [
    "#Printing Everything on a page\n",
    "r = requests.get(links[1])\n",
    "\n",
    "soup1 = BeautifulSoup(r.content, \"html.parser\")\n",
    "\n",
    "text = soup1.find_all('p')\n",
    "\n",
    "page_text = \"\"\n",
    "for item in text:\n",
    "    print(item.contents)"
   ]
  },
  {
   "cell_type": "code",
   "execution_count": 102,
   "metadata": {},
   "outputs": [
    {
     "data": {
      "text/plain": [
       "''"
      ]
     },
     "execution_count": 102,
     "metadata": {},
     "output_type": "execute_result"
    }
   ],
   "source": [
    "page_text"
   ]
  },
  {
   "cell_type": "code",
   "execution_count": null,
   "metadata": {},
   "outputs": [],
   "source": []
  }
 ],
 "metadata": {
  "kernelspec": {
   "display_name": "Python 3",
   "language": "python",
   "name": "python3"
  },
  "language_info": {
   "codemirror_mode": {
    "name": "ipython",
    "version": 3
   },
   "file_extension": ".py",
   "mimetype": "text/x-python",
   "name": "python",
   "nbconvert_exporter": "python",
   "pygments_lexer": "ipython3",
   "version": "3.5.6"
  }
 },
 "nbformat": 4,
 "nbformat_minor": 2
}
